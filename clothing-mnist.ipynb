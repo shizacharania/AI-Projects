{
 "cells": [
  {
   "cell_type": "code",
   "execution_count": 9,
   "metadata": {},
   "outputs": [],
   "source": [
    "%matplotlib inline\n",
    "\n",
    "#importing libraries\n",
    "import matplotlib.pyplot as plt\n",
    "\n",
    "import torch\n",
    "from torch import nn\n",
    "from torch import optim\n",
    "from torchvision import datasets, transforms\n",
    "\n",
    "import helper"
   ]
  },
  {
   "cell_type": "code",
   "execution_count": 10,
   "metadata": {},
   "outputs": [],
   "source": [
    "# Define a transform to normalize the data\n",
    "transform = transforms.Compose([transforms.ToTensor(),\n",
    "                                transforms.Normalize((0.5,),(0.5,))])\n",
    "\n",
    "# Download and load the training data\n",
    "trainset = datasets.FashionMNIST(\"~pytorch/F_MNIST_data/\", download=True, train=True, transform=transform)\n",
    "trainloader = torch.utils.data.DataLoader(trainset, batch_size=64, shuffle=True)\n",
    "\n",
    "# Download and load the test data\n",
    "testset = datasets.FashionMNIST(\"~pytorch/F_MNIST_data/\", download=True, train=False, transform=transform)\n",
    "testloader = torch.utils.data.DataLoader(testset, batch_size=64, shuffle=True)"
   ]
  },
  {
   "cell_type": "code",
   "execution_count": 14,
   "metadata": {},
   "outputs": [
    {
     "data": {
      "text/plain": [
       "<AxesSubplot:>"
      ]
     },
     "execution_count": 14,
     "metadata": {},
     "output_type": "execute_result"
    },
    {
     "data": {
      "image/png": "[encoded data removed]",
      "text/plain": [
       "<Figure size 432x288 with 1 Axes>"
      ]
     },
     "metadata": {
      "needs_background": "light"
     },
     "output_type": "display_data"
    }
   ],
   "source": [
    "# Run this to test the data loader\n",
    "images, labels = next(iter(trainloader))\n",
    "helper.imshow(images[0], normalize=True)"
   ]
  },
  {
   "cell_type": "code",
   "execution_count": 15,
   "metadata": {},
   "outputs": [
    {
     "name": "stdout",
     "output_type": "stream",
     "text": [
      "Sequential(\n",
      "  (0): Linear(in_features=784, out_features=256, bias=True)\n",
      "  (1): ReLU()\n",
      "  (2): Dropout(p=0.2, inplace=False)\n",
      "  (3): Linear(in_features=256, out_features=128, bias=True)\n",
      "  (4): ReLU()\n",
      "  (5): Dropout(p=0.2, inplace=False)\n",
      "  (6): Linear(in_features=128, out_features=64, bias=True)\n",
      "  (7): ReLU()\n",
      "  (8): Dropout(p=0.2, inplace=False)\n",
      "  (9): Linear(in_features=64, out_features=10, bias=True)\n",
      "  (10): Softmax(dim=1)\n",
      ")\n"
     ]
    }
   ],
   "source": [
    "input_layer = 784\n",
    "hidden_layers = [256, 128, 64]\n",
    "output_layer = 10\n",
    "\n",
    "model = nn.Sequential(\n",
    "                    nn.Linear(input_layer, hidden_layers[0]),\n",
    "                    nn.ReLU(),\n",
    "                    nn.Dropout(p=0.2),\n",
    "                    nn.Linear(hidden_layers[0], hidden_layers[1]),\n",
    "                    nn.ReLU(),\n",
    "                    nn.Dropout(p=0.2),\n",
    "                    nn.Linear(hidden_layers[1], hidden_layers[2]),\n",
    "                    nn.ReLU(),\n",
    "                    nn.Dropout(p=0.2),\n",
    "                    nn.Linear(hidden_layers[2], output_layer),\n",
    "                    nn.Softmax(dim=1))\n",
    "\n",
    "print(model)"
   ]
  },
  {
   "cell_type": "code",
   "execution_count": 16,
   "metadata": {},
   "outputs": [
    {
     "name": "stdout",
     "output_type": "stream",
     "text": [
      "Epoch: 1/30... Training Loss: -0.156... Testing Loss: -0.321... Accuracy: 0.335...\n",
      "Epoch: 2/30... Training Loss: -0.449... Testing Loss: -0.593... Accuracy: 0.630...\n",
      "Epoch: 3/30... Training Loss: -0.627... Testing Loss: -0.706... Accuracy: 0.724...\n",
      "Epoch: 4/30... Training Loss: -0.714... Testing Loss: -0.753... Accuracy: 0.764...\n",
      "Epoch: 5/30... Training Loss: -0.745... Testing Loss: -0.766... Accuracy: 0.773...\n",
      "Epoch: 6/30... Training Loss: -0.761... Testing Loss: -0.771... Accuracy: 0.775...\n",
      "Epoch: 7/30... Training Loss: -0.770... Testing Loss: -0.779... Accuracy: 0.783...\n",
      "Epoch: 8/30... Training Loss: -0.777... Testing Loss: -0.783... Accuracy: 0.788...\n",
      "Epoch: 9/30... Training Loss: -0.783... Testing Loss: -0.787... Accuracy: 0.791...\n",
      "Epoch: 10/30... Training Loss: -0.787... Testing Loss: -0.791... Accuracy: 0.793...\n",
      "Epoch: 11/30... Training Loss: -0.791... Testing Loss: -0.792... Accuracy: 0.794...\n",
      "Epoch: 12/30... Training Loss: -0.794... Testing Loss: -0.796... Accuracy: 0.798...\n",
      "Epoch: 13/30... Training Loss: -0.798... Testing Loss: -0.795... Accuracy: 0.797...\n",
      "Epoch: 14/30... Training Loss: -0.800... Testing Loss: -0.796... Accuracy: 0.798...\n",
      "Epoch: 15/30... Training Loss: -0.802... Testing Loss: -0.801... Accuracy: 0.803...\n",
      "Epoch: 16/30... Training Loss: -0.804... Testing Loss: -0.800... Accuracy: 0.802...\n",
      "Epoch: 17/30... Training Loss: -0.807... Testing Loss: -0.803... Accuracy: 0.805...\n",
      "Epoch: 18/30... Training Loss: -0.809... Testing Loss: -0.807... Accuracy: 0.810...\n",
      "Epoch: 19/30... Training Loss: -0.811... Testing Loss: -0.809... Accuracy: 0.811...\n",
      "Epoch: 20/30... Training Loss: -0.811... Testing Loss: -0.811... Accuracy: 0.812...\n",
      "Epoch: 21/30... Training Loss: -0.813... Testing Loss: -0.811... Accuracy: 0.812...\n",
      "Epoch: 22/30... Training Loss: -0.815... Testing Loss: -0.810... Accuracy: 0.811...\n",
      "Epoch: 23/30... Training Loss: -0.817... Testing Loss: -0.813... Accuracy: 0.815...\n",
      "Epoch: 24/30... Training Loss: -0.818... Testing Loss: -0.813... Accuracy: 0.816...\n",
      "Epoch: 25/30... Training Loss: -0.819... Testing Loss: -0.815... Accuracy: 0.816...\n",
      "Epoch: 26/30... Training Loss: -0.820... Testing Loss: -0.813... Accuracy: 0.815...\n",
      "Epoch: 27/30... Training Loss: -0.821... Testing Loss: -0.816... Accuracy: 0.818...\n",
      "Epoch: 28/30... Training Loss: -0.822... Testing Loss: -0.816... Accuracy: 0.818...\n",
      "Epoch: 29/30... Training Loss: -0.823... Testing Loss: -0.816... Accuracy: 0.817...\n",
      "Epoch: 30/30... Training Loss: -0.825... Testing Loss: -0.817... Accuracy: 0.818...\n"
     ]
    }
   ],
   "source": [
    "criterion = nn.NLLLoss()\n",
    "optimizer = optim.SGD(model.parameters(), lr=0.03)\n",
    "\n",
    "epochs = 30\n",
    "training_losses = []\n",
    "testing_losses = []\n",
    "\n",
    "for e in range(epochs):\n",
    "    #training the model\n",
    "    total_training_loss = 0\n",
    "    for images, labels in trainloader:\n",
    "        images = images.view(images.shape[0], -1)\n",
    "\n",
    "        optimizer.zero_grad()\n",
    "        logps = model(images)\n",
    "        loss = criterion(logps, labels)\n",
    "        loss.backward()\n",
    "        optimizer.step()\n",
    "\n",
    "        total_training_loss += loss.item()\n",
    "\n",
    "    else:\n",
    "        #testing the model\n",
    "        total_testing_loss = 0\n",
    "        test_correct = 0\n",
    "        with torch.no_grad():\n",
    "            model.eval() #dropout turns off\n",
    "            for images, labels in testloader:\n",
    "                images = images.view(images.shape[0], -1)\n",
    "                logps = model(images)\n",
    "                loss = criterion(logps, labels)\n",
    "                total_testing_loss += loss.item()\n",
    "\n",
    "                ps = torch.exp(model(images))\n",
    "\n",
    "                top_p, top_class = ps.topk(1, dim=1)\n",
    "\n",
    "                equals = top_class == labels.view(*top_class.shape)\n",
    "\n",
    "                test_correct += torch.mean(equals.type(torch.FloatTensor))\n",
    "                #test_correct += equals.sum().item()\n",
    "            \n",
    "        model.train() #dropout back on\n",
    "\n",
    "        training_losses.append(total_training_loss / len(trainloader))\n",
    "        testing_losses.append(total_testing_loss / len(testloader))\n",
    "\n",
    "        print(\"Epoch: {}/{}...\".format(e+1, epochs),\n",
    "        \"Training Loss: {:.3f}...\".format(training_losses[-1]),\n",
    "        \"Testing Loss: {:.3f}...\".format(testing_losses[-1]),\n",
    "        \"Accuracy: {:.3f}...\".format(test_correct/len(testloader)))"
   ]
  },
  {
   "cell_type": "code",
   "execution_count": 18,
   "metadata": {},
   "outputs": [
    {
     "data": {
      "text/plain": [
       "<matplotlib.legend.Legend at 0x7fd0a9c22f40>"
      ]
     },
     "execution_count": 18,
     "metadata": {},
     "output_type": "execute_result"
    },
    {
     "data": {
      "image/png": "[encoded data removed]",
      "text/plain": [
       "<Figure size 432x288 with 1 Axes>"
      ]
     },
     "metadata": {
      "needs_background": "light"
     },
     "output_type": "display_data"
    }
   ],
   "source": [
    "plt.plot(training_losses, label=\"Training loss\")\n",
    "plt.plot(testing_losses, label=\"Testing loss\")\n",
    "plt.legend(frameon=False)"
   ]
  },
  {
   "cell_type": "code",
   "execution_count": 19,
   "metadata": {},
   "outputs": [
    {
     "name": "stdout",
     "output_type": "stream",
     "text": [
      "tensor(7)\n"
     ]
    },
    {
     "data": {
      "image/png": "[encoded data removed]",
      "text/plain": [
       "<Figure size 432x648 with 2 Axes>"
      ]
     },
     "metadata": {
      "needs_background": "light"
     },
     "output_type": "display_data"
    }
   ],
   "source": [
    "images, labels = next(iter(testloader))\n",
    "images.resize_(images.shape[0], 1, 784)\n",
    "ps = model.forward(images[0,:])\n",
    "\n",
    "helper.view_classify(images[0].view(1,28,28), ps)\n",
    "print(labels[0])"
   ]
  }
 ],
 "metadata": {
  "interpreter": {
   "hash": "58e01130d00a3632b0fb78b77be37655486778a777e7091d9e1671094e6b3d94"
  },
  "kernelspec": {
   "display_name": "Python 3.9.5 64-bit (conda)",
   "language": "python",
   "name": "python3"
  },
  "language_info": {
   "codemirror_mode": {
    "name": "ipython",
    "version": 3
   },
   "file_extension": ".py",
   "mimetype": "text/x-python",
   "name": "python",
   "nbconvert_exporter": "python",
   "pygments_lexer": "ipython3",
   "version": "3.8.8"
  },
  "orig_nbformat": 4
 },
 "nbformat": 4,
 "nbformat_minor": 2
}
